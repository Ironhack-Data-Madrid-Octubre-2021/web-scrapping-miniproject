{
 "cells": [
  {
   "cell_type": "code",
   "execution_count": 1,
   "id": "8ba99bb6",
   "metadata": {},
   "outputs": [],
   "source": [
    "import pandas as pd\n",
    "import numpy as np\n",
    "import re\n",
    "import requests\n",
    "from bs4 import BeautifulSoup\n",
    "from selenium import webdriver\n",
    "from selenium.webdriver.chrome.service import Service\n",
    "from selenium import webdriver\n",
    "from selenium.webdriver.chrome.options import Options\n",
    "import time\n",
    "from selenium.webdriver.support.ui import Select\n",
    "from webdriver_manager.chrome import ChromeDriverManager\n",
    "from selenium.webdriver.support.ui import Select"
   ]
  },
  {
   "cell_type": "code",
   "execution_count": 2,
   "id": "4517e398",
   "metadata": {},
   "outputs": [],
   "source": [
    "s=Service(\"/mnt/c/Users/silvi/Desktop/ironhack/proyectos/proyecto2/pipeline_proyecto1-2/jupyter/chromedriver.exe\")\n",
    "driver = webdriver.Chrome(service=s)\n",
    "opciones=Options()\n",
    "\n",
    "opciones.add_experimental_option('excludeSwitches', ['enable-automation'])\n",
    "opciones.add_experimental_option('useAutomationExtension', False)\n",
    "\n",
    "opciones.headless=False    # si True, no aperece la ventana (headless=no visible)\n",
    "\n",
    "opciones.add_argument('--start-maximized')         # comienza maximizado\n",
    "\n",
    "opciones.add_argument('user-data-dir=selenium')    # mantiene las cookies\n",
    "\n",
    "#opciones.add_extension('driver_folder/adblock.crx')       # adblocker\n",
    "\n",
    "opciones.add_argument('--incognito')              # incognito\n"
   ]
  },
  {
   "cell_type": "code",
   "execution_count": null,
   "id": "8ea6fc14",
   "metadata": {},
   "outputs": [],
   "source": []
  },
  {
   "cell_type": "code",
   "execution_count": 3,
   "id": "730f6983",
   "metadata": {},
   "outputs": [
    {
     "name": "stderr",
     "output_type": "stream",
     "text": [
      "<ipython-input-3-b585bda75737>:5: DeprecationWarning: find_element_by_* commands are deprecated. Please use find_element() instead\n",
      "  driver.find_element_by_css_selector('#onetrust-accept-btn-handler').click()\n"
     ]
    }
   ],
   "source": [
    "url = ('https://www2.hm.com/es_es/index.html')\n",
    "driver.get(url)\n",
    "driver.implicitly_wait(2)\n",
    "\n",
    "driver.find_element_by_css_selector('#onetrust-accept-btn-handler').click()"
   ]
  },
  {
   "cell_type": "code",
   "execution_count": 4,
   "id": "ab069865",
   "metadata": {},
   "outputs": [],
   "source": [
    "body = driver.execute_script(\"return document.body\")\n",
    "source = body.get_attribute('innerHTML') \n",
    "soup_sc = BeautifulSoup(source, \"html.parser\")\n"
   ]
  },
  {
   "cell_type": "code",
   "execution_count": 5,
   "id": "0098ffbb",
   "metadata": {},
   "outputs": [],
   "source": [
    "enlace=soup_sc.findAll(\"a\",{\"class\": \"menu__sub-link\"})\n",
    "lista_enlaces = [f\"https://www2.hm.com{elemento.get('href')}\" for elemento in enlace]\n"
   ]
  },
  {
   "cell_type": "code",
   "execution_count": 6,
   "id": "db858e8c",
   "metadata": {},
   "outputs": [
    {
     "data": {
      "text/plain": [
       "['https://www2.hm.com/es_es/mujer/novedades/ver-todo.html',\n",
       " 'https://www2.hm.com/es_es/hombre/novedades/ver-todo.html',\n",
       " 'https://www2.hm.com/es_es/bebe/recien-nacido/novedades.html',\n",
       " 'https://www2.hm.com/es_es/bebe/nina/novedades.html',\n",
       " 'https://www2.hm.com/es_es/bebe/ninos/novedades.html',\n",
       " 'https://www2.hm.com/es_es/bebe/productos/novedades.html',\n",
       " 'https://www2.hm.com/es_es/ninos/nina/novedades.html',\n",
       " 'https://www2.hm.com/es_es/ninos/ninos/novedades.html',\n",
       " 'https://www2.hm.com/es_es/home/novedades/nuevos-productos.html']"
      ]
     },
     "execution_count": 6,
     "metadata": {},
     "output_type": "execute_result"
    }
   ],
   "source": [
    "novedades=[]\n",
    "for i in lista_enlaces:\n",
    "    if \"mujer\" in i or \"hombre\" in i :\n",
    "        if \"novedades\" in i and \"ver-todo\" in i:\n",
    "            url = (f'{i}')\n",
    "            novedades.append(url)\n",
    "    elif \"novedades\" in i:\n",
    "        url = (f'{i}')\n",
    "        novedades.append(url)\n",
    "novedades\n",
    "    "
   ]
  },
  {
   "cell_type": "code",
   "execution_count": 7,
   "id": "0b2caa48",
   "metadata": {},
   "outputs": [
    {
     "name": "stdout",
     "output_type": "stream",
     "text": [
      "['https://www2.hm.com/es_es/mujer/novedades/ver-todo.html', 'https://www2.hm.com/es_es/hombre/novedades/ver-todo.html', 'https://www2.hm.com/es_es/bebe/recien-nacido/novedades.html', 'https://www2.hm.com/es_es/bebe/nina/novedades.html', 'https://www2.hm.com/es_es/bebe/ninos/novedades.html', 'https://www2.hm.com/es_es/bebe/productos/novedades.html', 'https://www2.hm.com/es_es/ninos/nina/novedades.html', 'https://www2.hm.com/es_es/ninos/ninos/novedades.html', 'https://www2.hm.com/es_es/home/novedades/nuevos-productos.html']\n"
     ]
    }
   ],
   "source": [
    "print(novedades)"
   ]
  },
  {
   "cell_type": "code",
   "execution_count": 8,
   "id": "165b9324",
   "metadata": {},
   "outputs": [],
   "source": [
    "lista_all=[]\n",
    "for i in novedades:\n",
    "    url = i\n",
    "    driver.get(url)\n",
    "    driver.implicitly_wait(2)\n",
    "    body = driver.execute_script(\"return document.body\")\n",
    "    source = body.get_attribute('innerHTML') \n",
    "    soup_sc = BeautifulSoup(source, \"html.parser\")\n",
    "    N=soup_sc.findAll(\"h2\",{\"class\": \"load-more-heading\"})\n",
    "    numero=[co.getText() for co in N]\n",
    "    lista=[]\n",
    "    for x in numero:\n",
    "        lista.append(x.split(\" \"))\n",
    "    lista_all.append(f\"{i}?sort=stock&image-size=small&image=model&offset=0&page-size={lista[0][3]}\")"
   ]
  },
  {
   "cell_type": "code",
   "execution_count": 9,
   "id": "525b296a",
   "metadata": {},
   "outputs": [
    {
     "data": {
      "text/plain": [
       "['https://www2.hm.com/es_es/mujer/novedades/ver-todo.html?sort=stock&image-size=small&image=model&offset=0&page-size=1017',\n",
       " 'https://www2.hm.com/es_es/hombre/novedades/ver-todo.html?sort=stock&image-size=small&image=model&offset=0&page-size=264',\n",
       " 'https://www2.hm.com/es_es/bebe/recien-nacido/novedades.html?sort=stock&image-size=small&image=model&offset=0&page-size=79',\n",
       " 'https://www2.hm.com/es_es/bebe/nina/novedades.html?sort=stock&image-size=small&image=model&offset=0&page-size=130',\n",
       " 'https://www2.hm.com/es_es/bebe/ninos/novedades.html?sort=stock&image-size=small&image=model&offset=0&page-size=100',\n",
       " 'https://www2.hm.com/es_es/bebe/productos/novedades.html?sort=stock&image-size=small&image=model&offset=0&page-size=141',\n",
       " 'https://www2.hm.com/es_es/ninos/nina/novedades.html?sort=stock&image-size=small&image=model&offset=0&page-size=197',\n",
       " 'https://www2.hm.com/es_es/ninos/ninos/novedades.html?sort=stock&image-size=small&image=model&offset=0&page-size=160',\n",
       " 'https://www2.hm.com/es_es/home/novedades/nuevos-productos.html?sort=stock&image-size=small&image=model&offset=0&page-size=286']"
      ]
     },
     "execution_count": 9,
     "metadata": {},
     "output_type": "execute_result"
    }
   ],
   "source": [
    "lista_all"
   ]
  },
  {
   "cell_type": "code",
   "execution_count": 10,
   "id": "59c3f11c",
   "metadata": {},
   "outputs": [
    {
     "data": {
      "text/plain": [
       "'body = driver.execute_script(\"return document.body\")\\nsource = body.get_attribute(\\'innerHTML\\') \\nsoup_sc = BeautifulSoup(source, \"html.parser\")'"
      ]
     },
     "execution_count": 10,
     "metadata": {},
     "output_type": "execute_result"
    }
   ],
   "source": [
    "\"\"\"body = driver.execute_script(\"return document.body\")\n",
    "source = body.get_attribute('innerHTML') \n",
    "soup_sc = BeautifulSoup(source, \"html.parser\")\"\"\""
   ]
  },
  {
   "cell_type": "code",
   "execution_count": 11,
   "id": "316a9ff8",
   "metadata": {},
   "outputs": [
    {
     "data": {
      "text/plain": [
       "'iter=1\\nwhile True:\\n    \\n        scrollHeight = driver.execute_script(\"return document.documentElement.scrollHeight\")\\n        Height=250*iter\\n        driver.execute_script(\"window.scrollTo(0, \" + str(Height) + \");\")\\n        if Height > scrollHeight:\\n            print(\\'End of page\\')\\n            break\\n        time.sleep(1)\\n        iter+=1\\nbody = driver.execute_script(\"return document.body\")\\nsource = body.get_attribute(\\'innerHTML\\') '"
      ]
     },
     "execution_count": 11,
     "metadata": {},
     "output_type": "execute_result"
    }
   ],
   "source": [
    "\"\"\"iter=1\n",
    "while True:\n",
    "    \n",
    "        scrollHeight = driver.execute_script(\"return document.documentElement.scrollHeight\")\n",
    "        Height=250*iter\n",
    "        driver.execute_script(\"window.scrollTo(0, \" + str(Height) + \");\")\n",
    "        if Height > scrollHeight:\n",
    "            print('End of page')\n",
    "            break\n",
    "        time.sleep(1)\n",
    "        iter+=1\n",
    "body = driver.execute_script(\"return document.body\")\n",
    "source = body.get_attribute('innerHTML') \"\"\""
   ]
  },
  {
   "cell_type": "code",
   "execution_count": 12,
   "id": "2e2c8adb",
   "metadata": {},
   "outputs": [
    {
     "name": "stdout",
     "output_type": "stream",
     "text": [
      "End of page\n",
      "End of page\n",
      "End of page\n",
      "End of page\n",
      "End of page\n",
      "End of page\n",
      "End of page\n",
      "End of page\n",
      "End of page\n"
     ]
    }
   ],
   "source": [
    "html=[]\n",
    "for i in lista_all: \n",
    "    url = f\"{i}\"\n",
    "    driver.get(url)\n",
    "    driver.implicitly_wait(2)\n",
    "    \n",
    "    iter=1\n",
    "    while True:\n",
    "        scrollHeight = driver.execute_script(\"return document.documentElement.scrollHeight\")\n",
    "        Height=250*iter\n",
    "        driver.execute_script(\"window.scrollTo(0, \" + str(Height) + \");\")\n",
    "        if Height > scrollHeight:\n",
    "            print('End of page')\n",
    "            break\n",
    "        time.sleep(1)\n",
    "        iter+=1\n",
    "    body = driver.execute_script(\"return document.body\")\n",
    "    source = body.get_attribute('innerHTML') \n",
    "    html.append(source)"
   ]
  },
  {
   "cell_type": "code",
   "execution_count": 18,
   "id": "4206e25b",
   "metadata": {},
   "outputs": [],
   "source": [
    "# driver.find_element_by_css_selector('#menu-links > li:nth-child(1) > ul > li:nth-child(1)').click\n"
   ]
  },
  {
   "cell_type": "code",
   "execution_count": 16,
   "id": "fc430cf6",
   "metadata": {},
   "outputs": [],
   "source": [
    "tabs=[\"mujer\",\"hombre\",\"recien_nacido\",\"bebe_nina\",\"bebe_nino\",\"bebe_productos\",\"nina\",\"nino\",\"home\"]"
   ]
  },
  {
   "cell_type": "code",
   "execution_count": 53,
   "id": "b4e0aa54",
   "metadata": {},
   "outputs": [],
   "source": [
    "dic={}\n",
    "for x in range(9):\n",
    "    dic[tabs[x]]= BeautifulSoup(html[x], \"html.parser\")\n",
    "    \n"
   ]
  },
  {
   "cell_type": "code",
   "execution_count": 76,
   "id": "3cae66ed",
   "metadata": {},
   "outputs": [],
   "source": [
    "expor= pd.DataFrame()\n",
    "expor[\"tipo\"]=list(dic.keys())\n",
    "expor[\"html\"]=list(dic.values())"
   ]
  },
  {
   "cell_type": "code",
   "execution_count": 63,
   "id": "58d9868f",
   "metadata": {},
   "outputs": [],
   "source": [
    "expor.to_csv(\"html_1.csv\")"
   ]
  },
  {
   "cell_type": "code",
   "execution_count": 118,
   "id": "59cc6c06",
   "metadata": {},
   "outputs": [],
   "source": [
    "dicc={}"
   ]
  },
  {
   "cell_type": "code",
   "execution_count": 128,
   "id": "b62b5e79",
   "metadata": {},
   "outputs": [],
   "source": [
    "\"\"\"for i in range(9):\n",
    "    color=dic[tabs[i]].findAll(\"a\",{\"class\": \"swatch\"})\n",
    "    dicc[\"colors_\"+f\"{tabs[i]}\"]=[co.getText() for co in color]\"\"\""
   ]
  },
  {
   "cell_type": "code",
   "execution_count": 130,
   "id": "3db20f3d",
   "metadata": {},
   "outputs": [
    {
     "data": {
      "text/plain": [
       "dict_keys(['colors_home', 'colors_mujer', 'colors_hombre', 'colors_recien_nacido', 'colors_bebe_nina', 'colors_bebe_nino', 'colors_bebe_productos', 'colors_nina', 'colors_nino'])"
      ]
     },
     "execution_count": 130,
     "metadata": {},
     "output_type": "execute_result"
    }
   ],
   "source": [
    "dicc[]"
   ]
  },
  {
   "cell_type": "code",
   "execution_count": 131,
   "id": "7b22bd4a",
   "metadata": {},
   "outputs": [
    {
     "data": {
      "text/plain": [
       "2126"
      ]
     },
     "execution_count": 131,
     "metadata": {},
     "output_type": "execute_result"
    }
   ],
   "source": [
    "len(dicc['colors_mujer'])"
   ]
  },
  {
   "cell_type": "code",
   "execution_count": 75,
   "id": "3648810f",
   "metadata": {},
   "outputs": [
    {
     "ename": "NameError",
     "evalue": "name 'latitude' is not defined",
     "output_type": "error",
     "traceback": [
      "\u001b[0;31m---------------------------------------------------------------------------\u001b[0m",
      "\u001b[0;31mNameError\u001b[0m                                 Traceback (most recent call last)",
      "\u001b[0;32m<ipython-input-75-972187728147>\u001b[0m in \u001b[0;36m<module>\u001b[0;34m\u001b[0m\n\u001b[0;32m----> 1\u001b[0;31m \u001b[0msublist\u001b[0m \u001b[0;34m=\u001b[0m \u001b[0;34m[\u001b[0m\u001b[0mlatitude\u001b[0m\u001b[0;34m[\u001b[0m\u001b[0mn\u001b[0m\u001b[0;34m:\u001b[0m\u001b[0mn\u001b[0m\u001b[0;34m+\u001b[0m\u001b[0;36m2\u001b[0m\u001b[0;34m]\u001b[0m \u001b[0;32mfor\u001b[0m \u001b[0mn\u001b[0m \u001b[0;32min\u001b[0m \u001b[0mrange\u001b[0m\u001b[0;34m(\u001b[0m\u001b[0;36m0\u001b[0m\u001b[0;34m,\u001b[0m \u001b[0mlen\u001b[0m\u001b[0;34m(\u001b[0m\u001b[0mlatitude\u001b[0m\u001b[0;34m)\u001b[0m\u001b[0;34m,\u001b[0m \u001b[0;36m2\u001b[0m\u001b[0;34m)\u001b[0m\u001b[0;34m]\u001b[0m\u001b[0;34m\u001b[0m\u001b[0;34m\u001b[0m\u001b[0m\n\u001b[0m",
      "\u001b[0;31mNameError\u001b[0m: name 'latitude' is not defined"
     ]
    }
   ],
   "source": [
    "dic2[\"colors_\"+f\"{tabs[i]}\"]=[co.getText() for co in color]"
   ]
  },
  {
   "cell_type": "code",
   "execution_count": 106,
   "id": "ae031134",
   "metadata": {},
   "outputs": [],
   "source": [
    "dic2={}\n",
    "for i in range(9):\n",
    "    \"\"\"upc=dic[tabs[i]].findAll(\"h3\",{\"class\": \"item-heading\"})\n",
    "    numero=re.findall(r\"\\d{2,}\", str(upc))\n",
    "    dic2[\"prod_id_\"+f\"{tabs[i]}\"]=numero\"\"\"#me fastidia todo porque coge numeros de más\n",
    "    \n",
    "    productos=dic[tabs[i]].findAll(\"h3\",{\"class\": \"item-heading\"})\n",
    "    dic2[\"productos_\"+f\"{tabs[i]}\"] = [producto.getText() for producto in productos]\n",
    "    \n",
    "    precio=dic[tabs[i]].findAll(\"span\",{\"class\": \"price regular\"})\n",
    "    dic2[\"precios_\"+f\"{tabs[i]}\"]=[precios.getText() for precios in precio]\n",
    "\n",
    "\n"
   ]
  },
  {
   "cell_type": "code",
   "execution_count": 107,
   "id": "5df67a73",
   "metadata": {},
   "outputs": [],
   "source": [
    "lista_1=list(dic2.keys())\n",
    "lista_2=list(dic2.values())"
   ]
  },
  {
   "cell_type": "code",
   "execution_count": 169,
   "id": "9b37cf5a",
   "metadata": {},
   "outputs": [
    {
     "data": {
      "text/plain": [
       "['productos_mujer',\n",
       " 'precios_mujer',\n",
       " 'productos_hombre',\n",
       " 'precios_hombre',\n",
       " 'productos_recien_nacido',\n",
       " 'precios_recien_nacido',\n",
       " 'productos_bebe_nina',\n",
       " 'precios_bebe_nina',\n",
       " 'productos_bebe_nino',\n",
       " 'precios_bebe_nino',\n",
       " 'productos_bebe_productos',\n",
       " 'precios_bebe_productos',\n",
       " 'productos_nina',\n",
       " 'precios_nina',\n",
       " 'productos_nino',\n",
       " 'precios_nino',\n",
       " 'productos_home',\n",
       " 'precios_home']"
      ]
     },
     "execution_count": 169,
     "metadata": {},
     "output_type": "execute_result"
    }
   ],
   "source": [
    "sublist = [lista_1[n:n+2] for n in range(0, len(lista_1), 2)]\n",
    "sublist2= [lista_2[n:n+2] for n in range(0, len(lista_2), 2)]\n",
    "lista_1\n"
   ]
  },
  {
   "cell_type": "code",
   "execution_count": 176,
   "id": "10579934",
   "metadata": {},
   "outputs": [],
   "source": [
    "muj=dict(zip(sublist[0],sublist2[0]))\n",
    "mujer=pd.DataFrame.from_dict(muj)\n",
    "mujer[\"categoría\"]= \"Mujer\"\n",
    "mujer[\"sexo\"]=\"F\"\n",
    "mujer.rename({'productos_mujer': 'productos', 'precios_mujer': 'precios'}, axis=1, inplace=True)\n",
    "\n",
    "h=dict(zip(sublist[1],sublist2[1]))\n",
    "hom=pd.DataFrame.from_dict(h)\n",
    "hom[\"categoría\"]= \"Hombre\"\n",
    "hom[\"sexo\"]=\"M\"\n",
    "hom.rename({'productos_hombre': 'productos', 'precios_hombre': 'precios'}, axis=1, inplace=True)\n",
    "\n",
    "rn=dict(zip(sublist[2],sublist2[2]))\n",
    "recien_nacido=pd.DataFrame.from_dict(rn)\n",
    "recien_nacido[\"categoría\"]= \"Recien nacido\"\n",
    "recien_nacido[\"sexo\"]=\"N\"\n",
    "recien_nacido.rename({'productos_recien_nacido': 'productos', 'precios_recien_nacido': 'precios'}, axis=1, inplace=True)\n",
    "\n",
    "ba=dict(zip(sublist[3],sublist2[3]))\n",
    "bb_a=pd.DataFrame.from_dict(ba)\n",
    "bb_a[\"categoría\"]= \"bebe nina\"\n",
    "bb_a[\"sexo\"]=\"F\"\n",
    "bb_a.rename({'productos_bebe_nina': 'productos', 'precios_bebe_nina': 'precios'}, axis=1, inplace=True)\n",
    "\n",
    "bo=dict(zip(sublist[4],sublist2[4]))\n",
    "bb_o=pd.DataFrame.from_dict(bo)\n",
    "bb_o[\"categoría\"]= \"bebe nino\"\n",
    "bb_o[\"sexo\"]=\"M\"\n",
    "bb_o.rename({'productos_bebe_nino': 'productos', 'precios_bebe_nino': 'precios'}, axis=1, inplace=True)\n",
    "\n",
    "a=dict(zip(sublist[6],sublist2[6]))\n",
    "nina=pd.DataFrame.from_dict(a)\n",
    "nina[\"categoría\"]= \"nina\"\n",
    "nina[\"sexo\"]=\"F\"\n",
    "nina.rename({'productos_nina': 'productos', 'precios_nina': 'precios'}, axis=1, inplace=True)\n",
    "\n",
    "o=dict(zip(sublist[7],sublist2[7]))\n",
    "nino=pd.DataFrame.from_dict(o)\n",
    "nino[\"categoría\"]= \"nino\"\n",
    "nino[\"sexo\"]=\"M\"\n",
    "nino.rename({'productos_nino': 'productos', 'precios_nino': 'precios'}, axis=1, inplace=True)\n",
    "\n",
    "ho=dict(zip(sublist[8],sublist2[8]))\n",
    "home=pd.DataFrame.from_dict(ho)\n",
    "home[\"categoría\"]= \"home\"\n",
    "home[\"sexo\"]=\"N\"\n",
    "home.rename({'productos_home': 'productos', 'precios_home': 'precios'}, axis=1, inplace=True)"
   ]
  },
  {
   "cell_type": "code",
   "execution_count": 177,
   "id": "41aac50a",
   "metadata": {},
   "outputs": [
    {
     "data": {
      "text/html": [
       "<div>\n",
       "<style scoped>\n",
       "    .dataframe tbody tr th:only-of-type {\n",
       "        vertical-align: middle;\n",
       "    }\n",
       "\n",
       "    .dataframe tbody tr th {\n",
       "        vertical-align: top;\n",
       "    }\n",
       "\n",
       "    .dataframe thead th {\n",
       "        text-align: right;\n",
       "    }\n",
       "</style>\n",
       "<table border=\"1\" class=\"dataframe\">\n",
       "  <thead>\n",
       "    <tr style=\"text-align: right;\">\n",
       "      <th></th>\n",
       "      <th>productos</th>\n",
       "      <th>precios</th>\n",
       "      <th>categoría</th>\n",
       "      <th>sexo</th>\n",
       "    </tr>\n",
       "  </thead>\n",
       "  <tbody>\n",
       "    <tr>\n",
       "      <th>0</th>\n",
       "      <td>\\nFunda nórdica individual en franela de algod...</td>\n",
       "      <td>39,99 €</td>\n",
       "      <td>home</td>\n",
       "      <td>N</td>\n",
       "    </tr>\n",
       "    <tr>\n",
       "      <th>1</th>\n",
       "      <td>\\nManta en mezcla de lana\\n</td>\n",
       "      <td>29,99 €</td>\n",
       "      <td>home</td>\n",
       "      <td>N</td>\n",
       "    </tr>\n",
       "    <tr>\n",
       "      <th>2</th>\n",
       "      <td>\\nAdorno de vidrio para el árbol de Navidad\\n</td>\n",
       "      <td>9,99 €</td>\n",
       "      <td>home</td>\n",
       "      <td>N</td>\n",
       "    </tr>\n",
       "    <tr>\n",
       "      <th>3</th>\n",
       "      <td>\\nFunda de cojín en mezcla de lino\\n</td>\n",
       "      <td>9,99 €</td>\n",
       "      <td>home</td>\n",
       "      <td>N</td>\n",
       "    </tr>\n",
       "    <tr>\n",
       "      <th>4</th>\n",
       "      <td>\\nManta con capucha\\n</td>\n",
       "      <td>19,99 €</td>\n",
       "      <td>home</td>\n",
       "      <td>N</td>\n",
       "    </tr>\n",
       "    <tr>\n",
       "      <th>...</th>\n",
       "      <td>...</td>\n",
       "      <td>...</td>\n",
       "      <td>...</td>\n",
       "      <td>...</td>\n",
       "    </tr>\n",
       "    <tr>\n",
       "      <th>281</th>\n",
       "      <td>\\nPack de 2 toallas de mano en algodón\\n</td>\n",
       "      <td>9,99 €</td>\n",
       "      <td>home</td>\n",
       "      <td>N</td>\n",
       "    </tr>\n",
       "    <tr>\n",
       "      <th>282</th>\n",
       "      <td>\\nPack de 2 toallas de baño en algodón\\n</td>\n",
       "      <td>19,99 €</td>\n",
       "      <td>home</td>\n",
       "      <td>N</td>\n",
       "    </tr>\n",
       "    <tr>\n",
       "      <th>283</th>\n",
       "      <td>\\nToalla de baño gofrada\\n</td>\n",
       "      <td>14,99 €</td>\n",
       "      <td>home</td>\n",
       "      <td>N</td>\n",
       "    </tr>\n",
       "    <tr>\n",
       "      <th>284</th>\n",
       "      <td>\\nPack de 2 toallas faciales gofradas\\n</td>\n",
       "      <td>7,99 €</td>\n",
       "      <td>home</td>\n",
       "      <td>N</td>\n",
       "    </tr>\n",
       "    <tr>\n",
       "      <th>285</th>\n",
       "      <td>\\nPack de 2 toallas de invitados en algodón\\n</td>\n",
       "      <td>7,99 €</td>\n",
       "      <td>home</td>\n",
       "      <td>N</td>\n",
       "    </tr>\n",
       "  </tbody>\n",
       "</table>\n",
       "<p>286 rows × 4 columns</p>\n",
       "</div>"
      ],
      "text/plain": [
       "                                             productos  precios categoría sexo\n",
       "0    \\nFunda nórdica individual en franela de algod...  39,99 €      home    N\n",
       "1                          \\nManta en mezcla de lana\\n  29,99 €      home    N\n",
       "2        \\nAdorno de vidrio para el árbol de Navidad\\n   9,99 €      home    N\n",
       "3                 \\nFunda de cojín en mezcla de lino\\n   9,99 €      home    N\n",
       "4                                \\nManta con capucha\\n  19,99 €      home    N\n",
       "..                                                 ...      ...       ...  ...\n",
       "281           \\nPack de 2 toallas de mano en algodón\\n   9,99 €      home    N\n",
       "282           \\nPack de 2 toallas de baño en algodón\\n  19,99 €      home    N\n",
       "283                         \\nToalla de baño gofrada\\n  14,99 €      home    N\n",
       "284            \\nPack de 2 toallas faciales gofradas\\n   7,99 €      home    N\n",
       "285      \\nPack de 2 toallas de invitados en algodón\\n   7,99 €      home    N\n",
       "\n",
       "[286 rows x 4 columns]"
      ]
     },
     "execution_count": 177,
     "metadata": {},
     "output_type": "execute_result"
    }
   ],
   "source": [
    "home"
   ]
  },
  {
   "cell_type": "code",
   "execution_count": 178,
   "id": "3ebced76",
   "metadata": {},
   "outputs": [],
   "source": [
    "datos=pd.concat([mujer,hom,recien_nacido, bb_a,bb_o,nina,nino,home])"
   ]
  },
  {
   "cell_type": "code",
   "execution_count": 181,
   "id": "1477320b",
   "metadata": {},
   "outputs": [],
   "source": [
    "datos.to_csv(\"todo.csv\")"
   ]
  },
  {
   "cell_type": "code",
   "execution_count": 141,
   "id": "426d0020",
   "metadata": {},
   "outputs": [
    {
     "ename": "SyntaxError",
     "evalue": "invalid syntax (<ipython-input-141-f0b05be67f66>, line 1)",
     "output_type": "error",
     "traceback": [
      "\u001b[0;36m  File \u001b[0;32m\"<ipython-input-141-f0b05be67f66>\"\u001b[0;36m, line \u001b[0;32m1\u001b[0m\n\u001b[0;31m    datos[[\"productos\",\"precios\",\"categoría\"]]=[for index,fila mujer.iterrows[[\"productos_mujer\"],[\"mujer.precios_mujer\"],[\"mujer.categoría\"]]\u001b[0m\n\u001b[0m                                                ^\u001b[0m\n\u001b[0;31mSyntaxError\u001b[0m\u001b[0;31m:\u001b[0m invalid syntax\n"
     ]
    }
   ],
   "source": [
    "\n"
   ]
  },
  {
   "cell_type": "code",
   "execution_count": 138,
   "id": "5ad5a400",
   "metadata": {},
   "outputs": [
    {
     "data": {
      "text/html": [
       "<div>\n",
       "<style scoped>\n",
       "    .dataframe tbody tr th:only-of-type {\n",
       "        vertical-align: middle;\n",
       "    }\n",
       "\n",
       "    .dataframe tbody tr th {\n",
       "        vertical-align: top;\n",
       "    }\n",
       "\n",
       "    .dataframe thead th {\n",
       "        text-align: right;\n",
       "    }\n",
       "</style>\n",
       "<table border=\"1\" class=\"dataframe\">\n",
       "  <thead>\n",
       "    <tr style=\"text-align: right;\">\n",
       "      <th></th>\n",
       "      <th>productos</th>\n",
       "      <th>precios</th>\n",
       "      <th>categoría</th>\n",
       "    </tr>\n",
       "  </thead>\n",
       "  <tbody>\n",
       "    <tr>\n",
       "      <th>0</th>\n",
       "      <td>0             \\nJersey en punto jacquard\\n\n",
       "1  ...</td>\n",
       "      <td>0       19,99 €\n",
       "1       34,99 €\n",
       "2       24,99 ...</td>\n",
       "      <td>0       Mujer\n",
       "1       Mujer\n",
       "2       Mujer\n",
       "3   ...</td>\n",
       "    </tr>\n",
       "  </tbody>\n",
       "</table>\n",
       "</div>"
      ],
      "text/plain": [
       "                                           productos  \\\n",
       "0  0             \\nJersey en punto jacquard\\n\n",
       "1  ...   \n",
       "\n",
       "                                             precios  \\\n",
       "0  0       19,99 €\n",
       "1       34,99 €\n",
       "2       24,99 ...   \n",
       "\n",
       "                                           categoría  \n",
       "0  0       Mujer\n",
       "1       Mujer\n",
       "2       Mujer\n",
       "3   ...  "
      ]
     },
     "execution_count": 138,
     "metadata": {},
     "output_type": "execute_result"
    }
   ],
   "source": [
    "datos"
   ]
  }
 ],
 "metadata": {
  "kernelspec": {
   "display_name": "ironhack",
   "language": "python",
   "name": "ironhack"
  },
  "language_info": {
   "codemirror_mode": {
    "name": "ipython",
    "version": 3
   },
   "file_extension": ".py",
   "mimetype": "text/x-python",
   "name": "python",
   "nbconvert_exporter": "python",
   "pygments_lexer": "ipython3",
   "version": "3.8.5"
  }
 },
 "nbformat": 4,
 "nbformat_minor": 5
}
